{
  "nbformat": 4,
  "nbformat_minor": 0,
  "metadata": {
    "colab": {
      "name": "problem.ipynb",
      "provenance": [],
      "collapsed_sections": []
    },
    "kernelspec": {
      "name": "python3",
      "display_name": "Python 3"
    },
    "language_info": {
      "name": "python"
    }
  },
  "cells": [
    {
      "cell_type": "markdown",
      "metadata": {
        "id": "9tTWAXNRSm5A"
      },
      "source": [
        "# Capstone Project - The Battle of Neighborhoods (Week 1)"
      ]
    },
    {
      "cell_type": "markdown",
      "metadata": {
        "id": "uxoKwgRkSuOr"
      },
      "source": [
        "## Business Problem\n",
        "A couple of investors are looking to open up a restaurant in New York city. The question is, which borough would be best. \n",
        "The Bronx’s population is continuing to grow each year. As a borough it’s the 4th largest in New York city with 1 472 654 residents, a 6.3% growth compared to the previous study in 2010 according to the 2020 Census. \n",
        "\n",
        "Other factors that favor the Bronx is the diverse residents and relatively affordable property compared to other boroughs like Manhattan or Brooklyn. \n",
        "The goal now is to find the most optimal area in The Bronx where restaurants and food places are the most visited.\n"
      ]
    }
  ]
}