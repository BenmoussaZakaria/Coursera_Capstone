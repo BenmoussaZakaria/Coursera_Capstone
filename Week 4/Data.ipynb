{
  "nbformat": 4,
  "nbformat_minor": 0,
  "metadata": {
    "colab": {
      "name": "problem.ipynb",
      "provenance": [],
      "collapsed_sections": []
    },
    "kernelspec": {
      "name": "python3",
      "display_name": "Python 3"
    },
    "language_info": {
      "name": "python"
    }
  },
  "cells": [
    {
      "cell_type": "markdown",
      "metadata": {
        "id": "9tTWAXNRSm5A"
      },
      "source": [
        "# Capstone Project - The Battle of Neighborhoods (Week 1)"
      ]
    },
    {
      "cell_type": "markdown",
      "metadata": {
        "id": "uxoKwgRkSuOr"
      },
      "source": [
        "## Data description\n",
        "The data we will need for this study: \n",
        "\n",
        "\n",
        "* List of boroughs and neighborhoods in New York City;  \n",
        "* Geo-coordinates of the Bronx;\n",
        "* List of venues.\n",
        " \n"
      ]
    },
    {
      "cell_type": "markdown",
      "metadata": {
        "id": "ncJgsELbUYCY"
      },
      "source": [
        "## Data sources\n",
        "The list of boroughs and neighborhoods in New York City is provided by the json file from The New York  data. \n",
        "(https://cf-courses-data.s3.us.cloud-object-storage.appdomain.cloud/IBMDeveloperSkillsNetwork-DS0701EN-SkillsNetwork/labs/newyork_data.json\n",
        ")\n",
        "\n",
        "Geo-coordinates of the Bronx are provided by Geocoder tool.\n",
        "\n",
        "List of venues is provided by the Foursquare API."
      ]
    }
  ]
}